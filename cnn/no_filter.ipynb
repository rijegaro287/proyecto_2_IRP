{
 "cells": [
  {
   "cell_type": "code",
   "execution_count": 196,
   "metadata": {},
   "outputs": [],
   "source": [
    "import sys\n",
    "sys.path.append(\"..\")\n",
    "\n",
    "import time\n",
    "import pandas as pd\n",
    "import matplotlib.pyplot as plt\n",
    "\n",
    "from datasets.custom_dataset import CustomDataset\n",
    "\n",
    "import torch\n",
    "from torch import nn\n",
    "from torch.utils.data import DataLoader\n",
    "from torchvision.transforms import Compose, Grayscale, ToPILImage, ToTensor, Normalize\n",
    "\n",
    "from sklearn.model_selection import train_test_split"
   ]
  },
  {
   "attachments": {},
   "cell_type": "markdown",
   "metadata": {},
   "source": [
    "## Carga del set de datos"
   ]
  },
  {
   "attachments": {},
   "cell_type": "markdown",
   "metadata": {},
   "source": [
    "### Directorios"
   ]
  },
  {
   "cell_type": "code",
   "execution_count": 197,
   "metadata": {},
   "outputs": [
    {
     "data": {
      "text/html": [
       "<div>\n",
       "<style scoped>\n",
       "    .dataframe tbody tr th:only-of-type {\n",
       "        vertical-align: middle;\n",
       "    }\n",
       "\n",
       "    .dataframe tbody tr th {\n",
       "        vertical-align: top;\n",
       "    }\n",
       "\n",
       "    .dataframe thead th {\n",
       "        text-align: right;\n",
       "    }\n",
       "</style>\n",
       "<table border=\"1\" class=\"dataframe\">\n",
       "  <thead>\n",
       "    <tr style=\"text-align: right;\">\n",
       "      <th></th>\n",
       "      <th>file_name</th>\n",
       "      <th>label</th>\n",
       "    </tr>\n",
       "  </thead>\n",
       "  <tbody>\n",
       "    <tr>\n",
       "      <th>0</th>\n",
       "      <td>COVID-1.png</td>\n",
       "      <td>0</td>\n",
       "    </tr>\n",
       "    <tr>\n",
       "      <th>1</th>\n",
       "      <td>COVID-10.png</td>\n",
       "      <td>0</td>\n",
       "    </tr>\n",
       "    <tr>\n",
       "      <th>2</th>\n",
       "      <td>COVID-100.png</td>\n",
       "      <td>0</td>\n",
       "    </tr>\n",
       "    <tr>\n",
       "      <th>3</th>\n",
       "      <td>COVID-1000.png</td>\n",
       "      <td>0</td>\n",
       "    </tr>\n",
       "    <tr>\n",
       "      <th>4</th>\n",
       "      <td>COVID-1001.png</td>\n",
       "      <td>0</td>\n",
       "    </tr>\n",
       "  </tbody>\n",
       "</table>\n",
       "</div>"
      ],
      "text/plain": [
       "        file_name  label\n",
       "0     COVID-1.png      0\n",
       "1    COVID-10.png      0\n",
       "2   COVID-100.png      0\n",
       "3  COVID-1000.png      0\n",
       "4  COVID-1001.png      0"
      ]
     },
     "execution_count": 197,
     "metadata": {},
     "output_type": "execute_result"
    }
   ],
   "source": [
    "dataset_path = '../datasets/covid-19-radiography-dataset.csv'\n",
    "images_path = '../datasets/unfiltered_images'\n",
    "\n",
    "dataset = pd.read_csv(dataset_path)\n",
    "dataset_file_names = dataset['file_name']\n",
    "dataset_labels = dataset['label']\n",
    "\n",
    "dataset.head()"
   ]
  },
  {
   "attachments": {},
   "cell_type": "markdown",
   "metadata": {},
   "source": [
    "### Distribución de las clases en el set de datos"
   ]
  },
  {
   "cell_type": "code",
   "execution_count": 198,
   "metadata": {},
   "outputs": [],
   "source": [
    "class_ids = {\n",
    "    0: 'covid',\n",
    "    1: 'lung_opacity',\n",
    "    2: 'normal',\n",
    "    3: 'viral_pneumonia'\n",
    "}\n",
    "\n",
    "def count_dataset_classes(labels, class_ids):\n",
    "    class_count = {\n",
    "        'covid': 0,\n",
    "        'lung_opacity': 0,\n",
    "        'normal': 0,\n",
    "        'viral_pneumonia': 0\n",
    "    }\n",
    "    \n",
    "    for label in labels:\n",
    "        class_id = class_ids[label]\n",
    "        class_count[class_id] += 1\n",
    "    \n",
    "    return class_count"
   ]
  },
  {
   "cell_type": "code",
   "execution_count": 199,
   "metadata": {},
   "outputs": [
    {
     "data": {
      "image/png": "[encoded data removed]",
      "text/plain": [
       "<Figure size 640x480 with 1 Axes>"
      ]
     },
     "metadata": {},
     "output_type": "display_data"
    }
   ],
   "source": [
    "dataset_class_count = count_dataset_classes(dataset_labels, class_ids)\n",
    "\n",
    "fig, ax = plt.subplots()\n",
    "ax.set_title('Distribución de clases del set de datos')\n",
    "ax.bar(list(dataset_class_count.keys()), list(dataset_class_count.values()), color=['g', 'b', 'c', 'r'])\n",
    "\n",
    "plt.show()"
   ]
  },
  {
   "attachments": {},
   "cell_type": "markdown",
   "metadata": {},
   "source": [
    "### División del set de datos"
   ]
  },
  {
   "cell_type": "code",
   "execution_count": 200,
   "metadata": {},
   "outputs": [
    {
     "name": "stdout",
     "output_type": "stream",
     "text": [
      "Train set distribution:  {'covid': 2893, 'lung_opacity': 4809, 'normal': 8154, 'viral_pneumonia': 1076}\n",
      "Test set distribution:  {'covid': 723, 'lung_opacity': 1203, 'normal': 2038, 'viral_pneumonia': 269}\n",
      "Test vs Train distribution:  {'covid': 0.19994469026548672, 'lung_opacity': 0.2000998003992016, 'normal': 0.1999607535321821, 'viral_pneumonia': 0.2}\n"
     ]
    },
    {
     "data": {
      "image/png": "[encoded data removed]",
      "text/plain": [
       "<Figure size 1200x600 with 2 Axes>"
      ]
     },
     "metadata": {},
     "output_type": "display_data"
    }
   ],
   "source": [
    "X_train, X_test, y_train, y_test = train_test_split(\n",
    "    dataset_file_names, dataset_labels, test_size=0.2, random_state=404, stratify=dataset_labels)\n",
    "\n",
    "train_class_count = count_dataset_classes(y_train, class_ids)\n",
    "test_class_count = count_dataset_classes(y_test, class_ids)\n",
    "\n",
    "fig, ax = plt.subplots(1, 2, figsize=(12, 6))\n",
    "\n",
    "ax[0].set_title('Distribución de clases del set de entrenamiento')\n",
    "ax[0].bar(list(train_class_count.keys()), list(train_class_count.values()), color=['g', 'b', 'c', 'r'])\n",
    "\n",
    "ax[1].set_title('Distribución de clases del set de prueba')\n",
    "ax[1].bar(list(test_class_count.keys()), list(test_class_count.values()), color=['g', 'b', 'c', 'r'])\n",
    "\n",
    "print('Train set distribution: ', train_class_count)\n",
    "print('Test set distribution: ', test_class_count)\n",
    "print('Test vs Train distribution: ', {k: test_class_count[k] / (dataset_class_count[k]) for k in test_class_count})\n",
    "plt.show()"
   ]
  },
  {
   "attachments": {},
   "cell_type": "markdown",
   "metadata": {},
   "source": [
    "## Definicición del modelo\n"
   ]
  },
  {
   "attachments": {},
   "cell_type": "markdown",
   "metadata": {},
   "source": [
    "### Uso de GPU si está disponible"
   ]
  },
  {
   "cell_type": "code",
   "execution_count": 201,
   "metadata": {},
   "outputs": [
    {
     "name": "stdout",
     "output_type": "stream",
     "text": [
      "Using cpu device\n"
     ]
    }
   ],
   "source": [
    "device = (\"cuda\" if torch.cuda.is_available() else \"cpu\")\n",
    "print(f\"Using {device} device\")"
   ]
  },
  {
   "attachments": {},
   "cell_type": "markdown",
   "metadata": {},
   "source": [
    "### Arquitectura del modelo"
   ]
  },
  {
   "cell_type": "code",
   "execution_count": 202,
   "metadata": {},
   "outputs": [],
   "source": [
    "class ConvolutionalNetwork(nn.Module):\n",
    "    def __init__(self):\n",
    "        super().__init__()\n",
    "        self.sequential = nn.Sequential(\n",
    "            nn.Conv2d(in_channels=1, out_channels=1, kernel_size=3),\n",
    "            nn.ReLU(),\n",
    "            \n",
    "            nn.Flatten(),\n",
    "            nn.Dropout(p=0.3),\n",
    "            \n",
    "            nn.Linear(in_features=88209, out_features=4),\n",
    "            nn.ReLU(),\n",
    "            \n",
    "            \n",
    "            # nn.MaxPool2d(kernel_size=2, stride=2),\n",
    "            # nn.Conv2d(in_channels=8, out_channels=16, kernel_size=3),\n",
    "            # nn.ReLU(),\n",
    "            \n",
    "            # nn.MaxPool2d(kernel_size=2, stride=2),\n",
    "            # nn.Conv2d(in_channels=16, out_channels=32, kernel_size=3),\n",
    "            # nn.ReLU(),\n",
    "            \n",
    "            # nn.MaxPool2d(kernel_size=2, stride=2),\n",
    "            # nn.Conv2d(in_channels=32, out_channels=64, kernel_size=3),\n",
    "            # nn.ReLU(),\n",
    "\n",
    "            # nn.MaxPool2d(kernel_size=2, stride=2),\n",
    "            # nn.Conv2d(in_channels=64, out_channels=64, kernel_size=3),\n",
    "            # nn.ReLU(),\n",
    "\n",
    "            # nn.MaxPool2d(kernel_size=2, stride=2),\n",
    "            # nn.Conv2d(in_channels=64, out_channels=64, kernel_size=3),\n",
    "            # nn.ReLU(),\n",
    "            \n",
    "            # nn.Flatten(),\n",
    "            # nn.Dropout(p=0.3),\n",
    "            \n",
    "            # nn.Linear(in_features=1600, out_features=4096),\n",
    "            # nn.ReLU(),\n",
    "            \n",
    "            # nn.Linear(in_features=4096, out_features=40),\n",
    "            # nn.ReLU(),\n",
    "        )\n",
    "\n",
    "    def forward(self, x):\n",
    "        logits = self.sequential(x)\n",
    "        return logits"
   ]
  },
  {
   "attachments": {},
   "cell_type": "markdown",
   "metadata": {},
   "source": [
    "## Métricas de evaluación"
   ]
  },
  {
   "attachments": {},
   "cell_type": "markdown",
   "metadata": {},
   "source": [
    "### Definición de métricas"
   ]
  },
  {
   "cell_type": "code",
   "execution_count": 203,
   "metadata": {},
   "outputs": [],
   "source": [
    "from torchmetrics.classification import MulticlassAccuracy\n",
    "from torchmetrics.classification import MulticlassPrecision\n",
    "from torchmetrics.classification import MulticlassRecall\n",
    "from torchmetrics.classification import MulticlassF1Score\n",
    "from torchmetrics.classification import MulticlassROC\n",
    "from torchmetrics.classification import MulticlassAUROC\n",
    "\n",
    "train_accuracy = MulticlassAccuracy(num_classes=4, average=None).to(device)\n",
    "test_accuracy = MulticlassAccuracy(num_classes=4, average=None).to(device)\n",
    "\n",
    "train_precision = MulticlassPrecision(num_classes=4, average=None).to(device)\n",
    "test_precision = MulticlassPrecision(num_classes=4, average=None).to(device)\n",
    "\n",
    "train_recall = MulticlassRecall(num_classes=4, average=None).to(device)\n",
    "test_recall = MulticlassRecall(num_classes=4, average=None).to(device)\n",
    "\n",
    "train_f1 = MulticlassF1Score(num_classes=4, average=None).to(device)\n",
    "test_f1 = MulticlassF1Score(num_classes=4, average=None).to(device)\n",
    "\n",
    "train_roc = MulticlassROC(num_classes=4).to(device)\n",
    "test_roc = MulticlassROC(num_classes=4).to(device)\n",
    "\n",
    "train_auroc = MulticlassAUROC(num_classes=4).to(device)\n",
    "test_auroc = MulticlassAUROC(num_classes=4).to(device)"
   ]
  },
  {
   "attachments": {},
   "cell_type": "markdown",
   "metadata": {},
   "source": [
    "### Cálculo de métricas"
   ]
  },
  {
   "cell_type": "code",
   "execution_count": 204,
   "metadata": {},
   "outputs": [],
   "source": [
    "def compute_metrics(train_list, test_list, train_loss, test_loss):\n",
    "    train_list.append({'loss': train_loss,\n",
    "                       'accuracy': train_accuracy.compute(),\n",
    "                       'precision': train_precision.compute(), \n",
    "                       'recall': train_recall.compute(),\n",
    "                       'f1': train_f1.compute(),\n",
    "                       'roc': train_roc.compute(),\n",
    "                       'auroc': train_auroc.compute()})\n",
    "    \n",
    "    test_list.append({'loss': test_loss,\n",
    "                      'accuracy': test_accuracy.compute(),\n",
    "                      'precision': test_precision.compute(),\n",
    "                      'recall': test_recall.compute(),\n",
    "                      'f1': test_f1.compute(),\n",
    "                      'roc': test_roc.compute(),\n",
    "                      'auroc': test_auroc.compute()})\n",
    "    \n",
    "    train_accuracy.reset()\n",
    "    train_precision.reset()\n",
    "    train_recall.reset()\n",
    "    train_f1.reset()\n",
    "    train_roc.reset()\n",
    "    train_auroc.reset()\n",
    "    \n",
    "    test_accuracy.reset()\n",
    "    test_precision.reset()\n",
    "    test_recall.reset()\n",
    "    test_f1.reset()\n",
    "    test_roc.reset()\n",
    "    test_auroc.reset()"
   ]
  },
  {
   "attachments": {},
   "cell_type": "markdown",
   "metadata": {},
   "source": [
    "### Gráficos de métricas"
   ]
  },
  {
   "cell_type": "code",
   "execution_count": 205,
   "metadata": {},
   "outputs": [],
   "source": [
    "def show_accuracy_table(train_accuracies, test_accuracies, epochs):\n",
    "    accuracy_df = pd.DataFrame({\n",
    "        'Covid Train Accuracy': [train_accuracies[i][0].item() for i in range(epochs)],\n",
    "        'Covid Test Accuracy': [test_accuracies[i][0].item() for i in range(epochs)],\n",
    "        \n",
    "        'Lung-Opacity Train Opacity Accuracy': [train_accuracies[i][1].item() for i in range(epochs)],\n",
    "        'Lung-Opacity Test Opacity Accuracy': [test_accuracies[i][1].item() for i in range(epochs)],\n",
    "        \n",
    "        'Normal Train Accuracy': [train_accuracies[i][2].item() for i in range(epochs)],\n",
    "        'Normal Test Accuracy': [test_accuracies[i][2].item() for i in range(epochs)],\n",
    "        \n",
    "        'Pneumonia Train Accuracy': [train_accuracies[i][3].item() for i in range(epochs)],\n",
    "        'Pneumonia Test Accuracy': [test_accuracies[i][3].item() for i in range(epochs)]\n",
    "    }, index=[epoch+1 for epoch in range(epochs)])\n",
    "\n",
    "    accuracy_df.index.name = 'Epoch'\n",
    "    display(accuracy_df)"
   ]
  },
  {
   "cell_type": "code",
   "execution_count": 206,
   "metadata": {},
   "outputs": [],
   "source": [
    "def show_precision_table(train_precisions, test_precisions, epochs):\n",
    "    precision_df = pd.DataFrame({\n",
    "        'Covid Train Precision': [train_precisions[i][0].item() for i in range(epochs)],\n",
    "        'Covid Test Precision': [test_precisions[i][0].item() for i in range(epochs)],\n",
    "        \n",
    "        'Lung-Opacity Train Opacity Precision': [train_precisions[i][1].item() for i in range(epochs)],\n",
    "        'Lung-Opacity Test Opacity Precision': [test_precisions[i][1].item() for i in range(epochs)],\n",
    "        \n",
    "        'Normal Train Precision': [train_precisions[i][2].item() for i in range(epochs)],\n",
    "        'Normal Test Precision': [test_precisions[i][2].item() for i in range(epochs)],\n",
    "        \n",
    "        'Pneumonia Train Precision': [train_precisions[i][3].item() for i in range(epochs)],\n",
    "        'Pneumonia Test Precision': [test_precisions[i][3].item() for i in range(epochs)]\n",
    "    }, index=[epoch+1 for epoch in range(epochs)])\n",
    "\n",
    "    precision_df.index.name = 'Epoch'\n",
    "    display(precision_df)"
   ]
  },
  {
   "cell_type": "code",
   "execution_count": 207,
   "metadata": {},
   "outputs": [],
   "source": [
    "def show_recall_table(train_recalls, test_recalls, epochs):\n",
    "    recall_df = pd.DataFrame({\n",
    "        'Covid Train Recall': [train_recalls[i][0].item() for i in range(epochs)],\n",
    "        'Covid Test Recall': [test_recalls[i][0].item() for i in range(epochs)],\n",
    "        \n",
    "        'Lung-Opacity Train Opacity Recall': [train_recalls[i][1].item() for i in range(epochs)],\n",
    "        'Lung-Opacity Test Opacity Recall': [test_recalls[i][1].item() for i in range(epochs)],\n",
    "        \n",
    "        'Normal Train Recall': [train_recalls[i][2].item() for i in range(epochs)],\n",
    "        'Normal Test Recall': [test_recalls[i][2].item() for i in range(epochs)],\n",
    "        \n",
    "        'Pneumonia Train Recall': [train_recalls[i][3].item() for i in range(epochs)],\n",
    "        'Pneumonia Test Recall': [test_recalls[i][3].item() for i in range(epochs)]\n",
    "    }, index=[epoch+1 for epoch in range(epochs)])\n",
    "\n",
    "    recall_df.index.name = 'Epoch'\n",
    "    display(recall_df)"
   ]
  },
  {
   "cell_type": "code",
   "execution_count": 208,
   "metadata": {},
   "outputs": [],
   "source": [
    "def show_f1_score_table(train_f1_scores, test_f1_scores, epochs):\n",
    "    f1_score_df = pd.DataFrame({\n",
    "        'Covid Train F1-Score': [train_f1_scores[i][0].item() for i in range(epochs)],\n",
    "        'Covid Test F1-Score': [test_f1_scores[i][0].item() for i in range(epochs)],\n",
    "        \n",
    "        'Lung-Opacity Train Opacity F1-Score': [train_f1_scores[i][1].item() for i in range(epochs)],\n",
    "        'Lung-Opacity Test Opacity F1-Score': [test_f1_scores[i][1].item() for i in range(epochs)],\n",
    "        \n",
    "        'Normal Train F1-Score': [train_f1_scores[i][2].item() for i in range(epochs)],\n",
    "        'Normal Test F1-Score': [test_f1_scores[i][2].item() for i in range(epochs)],\n",
    "        \n",
    "        'Pneumonia Train F1-Score': [train_f1_scores[i][3].item() for i in range(epochs)],\n",
    "        'Pneumonia Test F1-Score': [test_f1_scores[i][3].item() for i in range(epochs)]\n",
    "    }, index=[epoch+1 for epoch in range(epochs)])\n",
    "    \n",
    "    f1_score_df.index.name = 'Epoch'\n",
    "    display(f1_score_df) "
   ]
  },
  {
   "cell_type": "code",
   "execution_count": 209,
   "metadata": {},
   "outputs": [],
   "source": [
    "def show_roc_plot(train_roc_fpr, train_roc_tpr, test_roc_fpr, test_roc_tpr):\n",
    "    fig, ax = plt.subplots(2, 2, figsize=(12, 10))\n",
    "\n",
    "    ax[0, 0].set_title('ROC Curve for Covid')\n",
    "    ax[0, 0].set_ylabel('TPR')\n",
    "    ax[0, 0].set_xlabel('FPR')\n",
    "\n",
    "    ax[0, 1].set_title('ROC Curve for Lung Opacity')\n",
    "    ax[0, 1].set_ylabel('TPR')\n",
    "    ax[0, 1].set_xlabel('FPR')\n",
    "\n",
    "    ax[1, 0].set_title('ROC Curve for Normal')\n",
    "    ax[1, 0].set_ylabel('TPR')\n",
    "    ax[1, 0].set_xlabel('FPR')\n",
    "\n",
    "    ax[1, 1].set_title('ROC Curve for Pneumonia')\n",
    "    ax[1, 1].set_ylabel('TPR')\n",
    "    ax[1, 1].set_xlabel('FPR')\n",
    "\n",
    "    ax[0, 0].plot(train_roc_fpr[0], train_roc_tpr[0], label='Train', color='b')\n",
    "    ax[0, 0].plot(test_roc_fpr[0], test_roc_tpr[0], label='Test', color='g')\n",
    "\n",
    "    ax[0, 1].plot(train_roc_fpr[1], train_roc_tpr[1], label='Train', color='b')\n",
    "    ax[0, 1].plot(test_roc_fpr[1], test_roc_tpr[1], label='Test', color='g')\n",
    "\n",
    "    ax[1, 0].plot(train_roc_fpr[2], train_roc_tpr[2], label='Train', color='b')\n",
    "    ax[1, 0].plot(test_roc_fpr[2], test_roc_tpr[2], label='Test', color='g')\n",
    "\n",
    "    ax[1, 1].plot(train_roc_fpr[3], train_roc_tpr[3], label='Train', color='b')\n",
    "    ax[1, 1].plot(test_roc_fpr[3], test_roc_tpr[3], label='Test', color='g')\n",
    "\n",
    "    ax[0, 0].legend()\n",
    "    ax[0, 1].legend()\n",
    "    ax[1, 0].legend()\n",
    "    ax[1, 1].legend()\n",
    "    fig.show()"
   ]
  },
  {
   "cell_type": "code",
   "execution_count": 210,
   "metadata": {},
   "outputs": [],
   "source": [
    "def show_learning_curve(train_losses, test_losses, epoch_list):\n",
    "    fig, ax = plt.subplots(figsize=(8, 6))\n",
    "    ax.set_title('Loss vs Epoch')\n",
    "    ax.set_ylabel('Loss')\n",
    "    ax.set_xlabel('Epoch')\n",
    "    ax.set_xticks(epoch_list)\n",
    "\n",
    "    ax.plot(epoch_list, train_losses, label='Train', color='b', marker='o')\n",
    "    ax.plot(epoch_list, test_losses, label='Test', color='g', marker='o')\n",
    "\n",
    "    ax.legend()\n",
    "    fig.show()"
   ]
  },
  {
   "attachments": {},
   "cell_type": "markdown",
   "metadata": {},
   "source": [
    "## Entrenamiento del modelo"
   ]
  },
  {
   "attachments": {},
   "cell_type": "markdown",
   "metadata": {},
   "source": [
    "### Función de entrenamiento"
   ]
  },
  {
   "cell_type": "code",
   "execution_count": 211,
   "metadata": {},
   "outputs": [],
   "source": [
    "def train(dataloader, model, loss_fn, optimizer):\n",
    "    print('--------------------------- Training --------------------------\\n')\n",
    "    size = len(dataloader.dataset)\n",
    "    loss = torch.Tensor([0]).to(device)\n",
    "    model.train()\n",
    "    for batch, (X, y) in enumerate(dataloader):\n",
    "        X = X.to(device)\n",
    "        y = y.to(device)\n",
    "\n",
    "        pred = model(X)\n",
    "        \n",
    "        train_accuracy.update(pred, y)\n",
    "        train_precision.update(pred, y)\n",
    "        train_recall.update(pred, y)\n",
    "        train_f1.update(pred, y)    \n",
    "        train_roc.update(pred, y)\n",
    "        train_auroc.update(pred, y)\n",
    "        \n",
    "        loss = loss_fn(pred, y)\n",
    "\n",
    "        loss.backward()\n",
    "        optimizer.step()\n",
    "        optimizer.zero_grad()\n",
    "\n",
    "        if batch % 10 == 0:\n",
    "            loss, current = loss.item(), (batch + 1) * len(X)\n",
    "            print(f'Current Loss: {loss:>7f}  [{current:>5d}/{size:>5d}]')\n",
    "    \n",
    "    return loss.item()"
   ]
  },
  {
   "attachments": {},
   "cell_type": "markdown",
   "metadata": {},
   "source": [
    "### Función de evaluación"
   ]
  },
  {
   "cell_type": "code",
   "execution_count": 212,
   "metadata": {},
   "outputs": [],
   "source": [
    "def test(dataloader, model, loss_fn):\n",
    "    print('--------------------------- Testing ---------------------------\\n')\n",
    "    num_batches = len(dataloader)\n",
    "    model.eval()\n",
    "    test_loss = 0\n",
    "    with torch.no_grad():\n",
    "        for X, y in dataloader:\n",
    "            X = X.to(device)\n",
    "            y = y.to(device)\n",
    "            \n",
    "            pred = model(X)\n",
    "            \n",
    "            test_accuracy.update(pred, y)\n",
    "            test_precision.update(pred, y)\n",
    "            test_recall.update(pred, y)\n",
    "            test_f1.update(pred, y)    \n",
    "            test_roc.update(pred, y)\n",
    "            test_auroc.update(pred, y)\n",
    "            \n",
    "            test_loss += loss_fn(pred, y).item()\n",
    "            \n",
    "    test_loss /= num_batches\n",
    "    accuracy_df = pd.DataFrame({\n",
    "        'Covid Test Accuracy': [test_accuracy.compute()[0].item()],\n",
    "        'Lung-Opacity Test Opacity Accuracy': [test_accuracy.compute()[1].item()],\n",
    "        'Normal Test Accuracy': [test_accuracy.compute()[2].item()],\n",
    "        'Pneumonia Test Accuracy': [test_accuracy.compute()[3].item()]\n",
    "    })\n",
    "    display(accuracy_df)\n",
    "    return test_loss"
   ]
  },
  {
   "attachments": {},
   "cell_type": "markdown",
   "metadata": {},
   "source": [
    "### Ciclo de entrenamiento"
   ]
  },
  {
   "cell_type": "code",
   "execution_count": 213,
   "metadata": {},
   "outputs": [],
   "source": [
    "batch_size = 32\n",
    "learning_rate = 1e-5\n",
    "momentum = 0.2\n",
    "epochs = 1\n",
    "\n",
    "train_dataset = CustomDataset(images_path, X_train, y_train, transform=Compose([\n",
    "    Grayscale(),\n",
    "    ToPILImage(),\n",
    "    ToTensor(),\n",
    "    Normalize(0.5, 0.5)\n",
    "]))\n",
    "\n",
    "test_dataset = CustomDataset(images_path, X_test, y_test, transform=Compose([\n",
    "    Grayscale(),\n",
    "    ToPILImage(),\n",
    "    ToTensor(),\n",
    "    Normalize(0.5, 0.5)\n",
    "]))\n",
    "\n",
    "train_dataloader = DataLoader(\n",
    "    train_dataset, batch_size=batch_size, shuffle=True)\n",
    "\n",
    "test_dataloader = DataLoader(\n",
    "    test_dataset, batch_size=batch_size, shuffle=True)\n",
    "\n",
    "model = ConvolutionalNetwork().to(device)\n",
    "loss_fn = nn.CrossEntropyLoss()\n",
    "optimizer = torch.optim.SGD(model.parameters(), lr=learning_rate, momentum=momentum)"
   ]
  },
  {
   "cell_type": "code",
   "execution_count": 214,
   "metadata": {},
   "outputs": [
    {
     "name": "stdout",
     "output_type": "stream",
     "text": [
      "--------------------------- Epoch 1 ---------------------------\n",
      "\n",
      "--------------------------- Training --------------------------\n",
      "\n",
      "Current Loss: 1.392228  [   32/16932]\n",
      "Current Loss: 1.383596  [  352/16932]\n",
      "Current Loss: 1.397038  [  672/16932]\n",
      "Current Loss: 1.389817  [  992/16932]\n",
      "Current Loss: 1.386787  [ 1312/16932]\n",
      "Current Loss: 1.387005  [ 1632/16932]\n",
      "Current Loss: 1.360386  [ 1952/16932]\n",
      "Current Loss: 1.356961  [ 2272/16932]\n",
      "Current Loss: 1.369603  [ 2592/16932]\n",
      "Current Loss: 1.349733  [ 2912/16932]\n",
      "Current Loss: 1.327715  [ 3232/16932]\n",
      "Current Loss: 1.313257  [ 3552/16932]\n",
      "Current Loss: 1.351375  [ 3872/16932]\n",
      "Current Loss: 1.383640  [ 4192/16932]\n",
      "Current Loss: 1.308684  [ 4512/16932]\n",
      "Current Loss: 1.307989  [ 4832/16932]\n",
      "Current Loss: 1.296801  [ 5152/16932]\n",
      "Current Loss: 1.217995  [ 5472/16932]\n",
      "Current Loss: 1.259416  [ 5792/16932]\n",
      "Current Loss: 1.260963  [ 6112/16932]\n",
      "Current Loss: 1.257875  [ 6432/16932]\n",
      "Current Loss: 1.291576  [ 6752/16932]\n",
      "Current Loss: 1.248326  [ 7072/16932]\n",
      "Current Loss: 1.314792  [ 7392/16932]\n",
      "Current Loss: 1.194023  [ 7712/16932]\n",
      "Current Loss: 1.368253  [ 8032/16932]\n",
      "Current Loss: 1.233569  [ 8352/16932]\n",
      "Current Loss: 1.262451  [ 8672/16932]\n",
      "Current Loss: 1.285641  [ 8992/16932]\n",
      "Current Loss: 1.294133  [ 9312/16932]\n",
      "Current Loss: 1.169245  [ 9632/16932]\n",
      "Current Loss: 1.289814  [ 9952/16932]\n",
      "Current Loss: 1.296499  [10272/16932]\n",
      "Current Loss: 1.237110  [10592/16932]\n",
      "Current Loss: 1.183740  [10912/16932]\n",
      "Current Loss: 1.378023  [11232/16932]\n",
      "Current Loss: 1.268680  [11552/16932]\n",
      "Current Loss: 1.119377  [11872/16932]\n",
      "Current Loss: 1.193354  [12192/16932]\n",
      "Current Loss: 1.195487  [12512/16932]\n",
      "Current Loss: 1.273618  [12832/16932]\n",
      "Current Loss: 1.297303  [13152/16932]\n",
      "Current Loss: 1.202803  [13472/16932]\n",
      "Current Loss: 1.367592  [13792/16932]\n",
      "Current Loss: 1.248727  [14112/16932]\n",
      "Current Loss: 1.238770  [14432/16932]\n",
      "Current Loss: 1.213668  [14752/16932]\n",
      "Current Loss: 1.250859  [15072/16932]\n",
      "Current Loss: 1.083182  [15392/16932]\n",
      "Current Loss: 1.338792  [15712/16932]\n",
      "Current Loss: 1.223958  [16032/16932]\n",
      "Current Loss: 1.285375  [16352/16932]\n",
      "Current Loss: 1.098452  [16672/16932]\n",
      "--------------------------- Testing ---------------------------\n",
      "\n"
     ]
    },
    {
     "data": {
      "text/html": [
       "<div>\n",
       "<style scoped>\n",
       "    .dataframe tbody tr th:only-of-type {\n",
       "        vertical-align: middle;\n",
       "    }\n",
       "\n",
       "    .dataframe tbody tr th {\n",
       "        vertical-align: top;\n",
       "    }\n",
       "\n",
       "    .dataframe thead th {\n",
       "        text-align: right;\n",
       "    }\n",
       "</style>\n",
       "<table border=\"1\" class=\"dataframe\">\n",
       "  <thead>\n",
       "    <tr style=\"text-align: right;\">\n",
       "      <th></th>\n",
       "      <th>Covid Test Accuracy</th>\n",
       "      <th>Lung-Opacity Test Opacity Accuracy</th>\n",
       "      <th>Normal Test Accuracy</th>\n",
       "      <th>Pneumonia Test Accuracy</th>\n",
       "    </tr>\n",
       "  </thead>\n",
       "  <tbody>\n",
       "    <tr>\n",
       "      <th>0</th>\n",
       "      <td>0.0</td>\n",
       "      <td>0.0</td>\n",
       "      <td>1.0</td>\n",
       "      <td>0.0</td>\n",
       "    </tr>\n",
       "  </tbody>\n",
       "</table>\n",
       "</div>"
      ],
      "text/plain": [
       "   Covid Test Accuracy  Lung-Opacity Test Opacity Accuracy  \\\n",
       "0                  0.0                                 0.0   \n",
       "\n",
       "   Normal Test Accuracy  Pneumonia Test Accuracy  \n",
       "0                   1.0                      0.0  "
      ]
     },
     "metadata": {},
     "output_type": "display_data"
    },
    {
     "name": "stdout",
     "output_type": "stream",
     "text": [
      "Training time: 2.632 minutes\n"
     ]
    }
   ],
   "source": [
    "train_metrics = []\n",
    "test_metrics = []\n",
    "\n",
    "start_time = time.time()\n",
    "for epoch in range(epochs):\n",
    "    print(f'--------------------------- Epoch {epoch+1} ---------------------------\\n')\n",
    "    train_loss = train(train_dataloader, model, loss_fn, optimizer)\n",
    "    test_loss = test(test_dataloader, model, loss_fn)\n",
    "    \n",
    "    compute_metrics(train_metrics, test_metrics, train_loss, test_loss)\n",
    "    \n",
    "end_time = time.time()\n",
    "print(f'Training time: {(end_time - start_time)/60:>0.3f} minutes')"
   ]
  },
  {
   "attachments": {},
   "cell_type": "markdown",
   "metadata": {},
   "source": [
    "## Evaluación del modelo"
   ]
  },
  {
   "attachments": {},
   "cell_type": "markdown",
   "metadata": {},
   "source": [
    "### Curva de entrenamiento"
   ]
  },
  {
   "cell_type": "code",
   "execution_count": 215,
   "metadata": {},
   "outputs": [
    {
     "name": "stderr",
     "output_type": "stream",
     "text": [
      "/tmp/ipykernel_1732/1119352215.py:12: UserWarning: Matplotlib is currently using module://matplotlib_inline.backend_inline, which is a non-GUI backend, so cannot show the figure.\n",
      "  fig.show()\n"
     ]
    },
    {
     "data": {
      "image/png": "[encoded data removed]",
      "text/plain": [
       "<Figure size 800x600 with 1 Axes>"
      ]
     },
     "metadata": {},
     "output_type": "display_data"
    }
   ],
   "source": [
    "epoch_list = [epoch+1 for epoch in range(epochs)]\n",
    "train_losses = [train_metrics[i]['loss'] for i in range(epochs)]\n",
    "test_losses = [test_metrics[i]['loss'] for i in range(epochs)]\n",
    "\n",
    "show_learning_curve(train_losses, test_losses, epoch_list)"
   ]
  },
  {
   "attachments": {},
   "cell_type": "markdown",
   "metadata": {},
   "source": [
    "### Accuracy"
   ]
  },
  {
   "cell_type": "code",
   "execution_count": 216,
   "metadata": {},
   "outputs": [
    {
     "data": {
      "text/html": [
       "<div>\n",
       "<style scoped>\n",
       "    .dataframe tbody tr th:only-of-type {\n",
       "        vertical-align: middle;\n",
       "    }\n",
       "\n",
       "    .dataframe tbody tr th {\n",
       "        vertical-align: top;\n",
       "    }\n",
       "\n",
       "    .dataframe thead th {\n",
       "        text-align: right;\n",
       "    }\n",
       "</style>\n",
       "<table border=\"1\" class=\"dataframe\">\n",
       "  <thead>\n",
       "    <tr style=\"text-align: right;\">\n",
       "      <th></th>\n",
       "      <th>Covid Train Accuracy</th>\n",
       "      <th>Covid Test Accuracy</th>\n",
       "      <th>Lung-Opacity Train Opacity Accuracy</th>\n",
       "      <th>Lung-Opacity Test Opacity Accuracy</th>\n",
       "      <th>Normal Train Accuracy</th>\n",
       "      <th>Normal Test Accuracy</th>\n",
       "      <th>Pneumonia Train Accuracy</th>\n",
       "      <th>Pneumonia Test Accuracy</th>\n",
       "    </tr>\n",
       "    <tr>\n",
       "      <th>Epoch</th>\n",
       "      <th></th>\n",
       "      <th></th>\n",
       "      <th></th>\n",
       "      <th></th>\n",
       "      <th></th>\n",
       "      <th></th>\n",
       "      <th></th>\n",
       "      <th></th>\n",
       "    </tr>\n",
       "  </thead>\n",
       "  <tbody>\n",
       "    <tr>\n",
       "      <th>1</th>\n",
       "      <td>0.016246</td>\n",
       "      <td>0.0</td>\n",
       "      <td>0.01622</td>\n",
       "      <td>0.0</td>\n",
       "      <td>0.918813</td>\n",
       "      <td>1.0</td>\n",
       "      <td>0.013011</td>\n",
       "      <td>0.0</td>\n",
       "    </tr>\n",
       "  </tbody>\n",
       "</table>\n",
       "</div>"
      ],
      "text/plain": [
       "       Covid Train Accuracy  Covid Test Accuracy  \\\n",
       "Epoch                                              \n",
       "1                  0.016246                  0.0   \n",
       "\n",
       "       Lung-Opacity Train Opacity Accuracy  \\\n",
       "Epoch                                        \n",
       "1                                  0.01622   \n",
       "\n",
       "       Lung-Opacity Test Opacity Accuracy  Normal Train Accuracy  \\\n",
       "Epoch                                                              \n",
       "1                                     0.0               0.918813   \n",
       "\n",
       "       Normal Test Accuracy  Pneumonia Train Accuracy  Pneumonia Test Accuracy  \n",
       "Epoch                                                                           \n",
       "1                       1.0                  0.013011                      0.0  "
      ]
     },
     "metadata": {},
     "output_type": "display_data"
    }
   ],
   "source": [
    "train_accuracies = [train_metrics[i]['accuracy'] for i in range(epochs)]\n",
    "test_accuracies = [test_metrics[i]['accuracy'] for i in range(epochs)]\n",
    "\n",
    "show_accuracy_table(train_accuracies, test_accuracies, epochs)"
   ]
  },
  {
   "attachments": {},
   "cell_type": "markdown",
   "metadata": {},
   "source": [
    "### Precision"
   ]
  },
  {
   "cell_type": "code",
   "execution_count": 217,
   "metadata": {},
   "outputs": [
    {
     "data": {
      "text/html": [
       "<div>\n",
       "<style scoped>\n",
       "    .dataframe tbody tr th:only-of-type {\n",
       "        vertical-align: middle;\n",
       "    }\n",
       "\n",
       "    .dataframe tbody tr th {\n",
       "        vertical-align: top;\n",
       "    }\n",
       "\n",
       "    .dataframe thead th {\n",
       "        text-align: right;\n",
       "    }\n",
       "</style>\n",
       "<table border=\"1\" class=\"dataframe\">\n",
       "  <thead>\n",
       "    <tr style=\"text-align: right;\">\n",
       "      <th></th>\n",
       "      <th>Covid Train Precision</th>\n",
       "      <th>Covid Test Precision</th>\n",
       "      <th>Lung-Opacity Train Opacity Precision</th>\n",
       "      <th>Lung-Opacity Test Opacity Precision</th>\n",
       "      <th>Normal Train Precision</th>\n",
       "      <th>Normal Test Precision</th>\n",
       "      <th>Pneumonia Train Precision</th>\n",
       "      <th>Pneumonia Test Precision</th>\n",
       "    </tr>\n",
       "    <tr>\n",
       "      <th>Epoch</th>\n",
       "      <th></th>\n",
       "      <th></th>\n",
       "      <th></th>\n",
       "      <th></th>\n",
       "      <th></th>\n",
       "      <th></th>\n",
       "      <th></th>\n",
       "      <th></th>\n",
       "    </tr>\n",
       "  </thead>\n",
       "  <tbody>\n",
       "    <tr>\n",
       "      <th>1</th>\n",
       "      <td>0.135838</td>\n",
       "      <td>0.0</td>\n",
       "      <td>0.18267</td>\n",
       "      <td>0.0</td>\n",
       "      <td>0.477562</td>\n",
       "      <td>0.481455</td>\n",
       "      <td>0.029724</td>\n",
       "      <td>0.0</td>\n",
       "    </tr>\n",
       "  </tbody>\n",
       "</table>\n",
       "</div>"
      ],
      "text/plain": [
       "       Covid Train Precision  Covid Test Precision  \\\n",
       "Epoch                                                \n",
       "1                   0.135838                   0.0   \n",
       "\n",
       "       Lung-Opacity Train Opacity Precision  \\\n",
       "Epoch                                         \n",
       "1                                   0.18267   \n",
       "\n",
       "       Lung-Opacity Test Opacity Precision  Normal Train Precision  \\\n",
       "Epoch                                                                \n",
       "1                                      0.0                0.477562   \n",
       "\n",
       "       Normal Test Precision  Pneumonia Train Precision  \\\n",
       "Epoch                                                     \n",
       "1                   0.481455                   0.029724   \n",
       "\n",
       "       Pneumonia Test Precision  \n",
       "Epoch                            \n",
       "1                           0.0  "
      ]
     },
     "metadata": {},
     "output_type": "display_data"
    }
   ],
   "source": [
    "train_precisions = [train_metrics[i]['precision'] for i in range(epochs)]\n",
    "test_precisions = [test_metrics[i]['precision'] for i in range(epochs)]\n",
    "\n",
    "show_precision_table(train_precisions, test_precisions, epochs)"
   ]
  },
  {
   "attachments": {},
   "cell_type": "markdown",
   "metadata": {},
   "source": [
    "### Recall"
   ]
  },
  {
   "cell_type": "code",
   "execution_count": 218,
   "metadata": {},
   "outputs": [
    {
     "data": {
      "text/html": [
       "<div>\n",
       "<style scoped>\n",
       "    .dataframe tbody tr th:only-of-type {\n",
       "        vertical-align: middle;\n",
       "    }\n",
       "\n",
       "    .dataframe tbody tr th {\n",
       "        vertical-align: top;\n",
       "    }\n",
       "\n",
       "    .dataframe thead th {\n",
       "        text-align: right;\n",
       "    }\n",
       "</style>\n",
       "<table border=\"1\" class=\"dataframe\">\n",
       "  <thead>\n",
       "    <tr style=\"text-align: right;\">\n",
       "      <th></th>\n",
       "      <th>Covid Train Recall</th>\n",
       "      <th>Covid Test Recall</th>\n",
       "      <th>Lung-Opacity Train Opacity Recall</th>\n",
       "      <th>Lung-Opacity Test Opacity Recall</th>\n",
       "      <th>Normal Train Recall</th>\n",
       "      <th>Normal Test Recall</th>\n",
       "      <th>Pneumonia Train Recall</th>\n",
       "      <th>Pneumonia Test Recall</th>\n",
       "    </tr>\n",
       "    <tr>\n",
       "      <th>Epoch</th>\n",
       "      <th></th>\n",
       "      <th></th>\n",
       "      <th></th>\n",
       "      <th></th>\n",
       "      <th></th>\n",
       "      <th></th>\n",
       "      <th></th>\n",
       "      <th></th>\n",
       "    </tr>\n",
       "  </thead>\n",
       "  <tbody>\n",
       "    <tr>\n",
       "      <th>1</th>\n",
       "      <td>0.016246</td>\n",
       "      <td>0.0</td>\n",
       "      <td>0.01622</td>\n",
       "      <td>0.0</td>\n",
       "      <td>0.918813</td>\n",
       "      <td>1.0</td>\n",
       "      <td>0.013011</td>\n",
       "      <td>0.0</td>\n",
       "    </tr>\n",
       "  </tbody>\n",
       "</table>\n",
       "</div>"
      ],
      "text/plain": [
       "       Covid Train Recall  Covid Test Recall  \\\n",
       "Epoch                                          \n",
       "1                0.016246                0.0   \n",
       "\n",
       "       Lung-Opacity Train Opacity Recall  Lung-Opacity Test Opacity Recall  \\\n",
       "Epoch                                                                        \n",
       "1                                0.01622                               0.0   \n",
       "\n",
       "       Normal Train Recall  Normal Test Recall  Pneumonia Train Recall  \\\n",
       "Epoch                                                                    \n",
       "1                 0.918813                 1.0                0.013011   \n",
       "\n",
       "       Pneumonia Test Recall  \n",
       "Epoch                         \n",
       "1                        0.0  "
      ]
     },
     "metadata": {},
     "output_type": "display_data"
    }
   ],
   "source": [
    "train_recalls = [train_metrics[i]['recall'] for i in range(epochs)]\n",
    "test_recalls = [test_metrics[i]['recall'] for i in range(epochs)]\n",
    "\n",
    "show_recall_table(train_recalls, test_recalls, epochs)"
   ]
  },
  {
   "attachments": {},
   "cell_type": "markdown",
   "metadata": {},
   "source": [
    "### F1-Score"
   ]
  },
  {
   "cell_type": "code",
   "execution_count": 219,
   "metadata": {},
   "outputs": [
    {
     "data": {
      "text/html": [
       "<div>\n",
       "<style scoped>\n",
       "    .dataframe tbody tr th:only-of-type {\n",
       "        vertical-align: middle;\n",
       "    }\n",
       "\n",
       "    .dataframe tbody tr th {\n",
       "        vertical-align: top;\n",
       "    }\n",
       "\n",
       "    .dataframe thead th {\n",
       "        text-align: right;\n",
       "    }\n",
       "</style>\n",
       "<table border=\"1\" class=\"dataframe\">\n",
       "  <thead>\n",
       "    <tr style=\"text-align: right;\">\n",
       "      <th></th>\n",
       "      <th>Covid Train F1-Score</th>\n",
       "      <th>Covid Test F1-Score</th>\n",
       "      <th>Lung-Opacity Train Opacity F1-Score</th>\n",
       "      <th>Lung-Opacity Test Opacity F1-Score</th>\n",
       "      <th>Normal Train F1-Score</th>\n",
       "      <th>Normal Test F1-Score</th>\n",
       "      <th>Pneumonia Train F1-Score</th>\n",
       "      <th>Pneumonia Test F1-Score</th>\n",
       "    </tr>\n",
       "    <tr>\n",
       "      <th>Epoch</th>\n",
       "      <th></th>\n",
       "      <th></th>\n",
       "      <th></th>\n",
       "      <th></th>\n",
       "      <th></th>\n",
       "      <th></th>\n",
       "      <th></th>\n",
       "      <th></th>\n",
       "    </tr>\n",
       "  </thead>\n",
       "  <tbody>\n",
       "    <tr>\n",
       "      <th>1</th>\n",
       "      <td>0.029021</td>\n",
       "      <td>0.0</td>\n",
       "      <td>0.029794</td>\n",
       "      <td>0.0</td>\n",
       "      <td>0.628471</td>\n",
       "      <td>0.649976</td>\n",
       "      <td>0.0181</td>\n",
       "      <td>0.0</td>\n",
       "    </tr>\n",
       "  </tbody>\n",
       "</table>\n",
       "</div>"
      ],
      "text/plain": [
       "       Covid Train F1-Score  Covid Test F1-Score  \\\n",
       "Epoch                                              \n",
       "1                  0.029021                  0.0   \n",
       "\n",
       "       Lung-Opacity Train Opacity F1-Score  \\\n",
       "Epoch                                        \n",
       "1                                 0.029794   \n",
       "\n",
       "       Lung-Opacity Test Opacity F1-Score  Normal Train F1-Score  \\\n",
       "Epoch                                                              \n",
       "1                                     0.0               0.628471   \n",
       "\n",
       "       Normal Test F1-Score  Pneumonia Train F1-Score  Pneumonia Test F1-Score  \n",
       "Epoch                                                                           \n",
       "1                  0.649976                    0.0181                      0.0  "
      ]
     },
     "metadata": {},
     "output_type": "display_data"
    }
   ],
   "source": [
    "train_f1_scores = [train_metrics[i]['f1'] for i in range(epochs)]\n",
    "test_f1_scores = [test_metrics[i]['f1'] for i in range(epochs)]\n",
    "\n",
    "show_f1_score_table(train_f1_scores, test_f1_scores, epochs)"
   ]
  },
  {
   "attachments": {},
   "cell_type": "markdown",
   "metadata": {},
   "source": [
    "### Gráfico ROC para cada clase"
   ]
  },
  {
   "cell_type": "code",
   "execution_count": 220,
   "metadata": {},
   "outputs": [
    {
     "name": "stderr",
     "output_type": "stream",
     "text": [
      "/tmp/ipykernel_1732/2518052900.py:36: UserWarning: Matplotlib is currently using module://matplotlib_inline.backend_inline, which is a non-GUI backend, so cannot show the figure.\n",
      "  fig.show()\n"
     ]
    },
    {
     "data": {
      "image/png": "[encoded data removed]",
      "text/plain": [
       "<Figure size 1200x1000 with 4 Axes>"
      ]
     },
     "metadata": {},
     "output_type": "display_data"
    }
   ],
   "source": [
    "train_roc_fpr = train_metrics[-1]['roc'][0]\n",
    "train_roc_tpr = train_metrics[-1]['roc'][1]\n",
    "\n",
    "test_roc_fpr = test_metrics[-1]['roc'][0]\n",
    "test_roc_tpr = test_metrics[-1]['roc'][1]\n",
    "\n",
    "show_roc_plot(train_roc_fpr, train_roc_tpr, test_roc_fpr, test_roc_tpr)"
   ]
  },
  {
   "attachments": {},
   "cell_type": "markdown",
   "metadata": {},
   "source": [
    "## Saliency Maps"
   ]
  },
  {
   "cell_type": "code",
   "execution_count": 221,
   "metadata": {},
   "outputs": [
    {
     "name": "stdout",
     "output_type": "stream",
     "text": [
      "2\n"
     ]
    }
   ],
   "source": [
    "model.eval()\n",
    "X_test = next(iter(test_dataloader))\n",
    "print(len(X_test))\n",
    "\n",
    "# scores = model(X_test)\n",
    "# score_max_index = scores.argmax()\n",
    "# score_max = scores[0,score_max_index]\n",
    "# score_max.backward()\n",
    "\n",
    "# saliency, _ = torch.max(X_test.grad.data.abs(),dim=1)\n",
    "# plt.imshow(saliency[0], cmap=plt.cm.hot)\n",
    "# plt.axis('off')\n",
    "# plt.show()"
   ]
  }
 ],
 "metadata": {
  "kernelspec": {
   "display_name": "Python 3",
   "language": "python",
   "name": "python3"
  },
  "language_info": {
   "codemirror_mode": {
    "name": "ipython",
    "version": 3
   },
   "file_extension": ".py",
   "mimetype": "text/x-python",
   "name": "python",
   "nbconvert_exporter": "python",
   "pygments_lexer": "ipython3",
   "version": "3.10.10"
  },
  "orig_nbformat": 4
 },
 "nbformat": 4,
 "nbformat_minor": 2
}
